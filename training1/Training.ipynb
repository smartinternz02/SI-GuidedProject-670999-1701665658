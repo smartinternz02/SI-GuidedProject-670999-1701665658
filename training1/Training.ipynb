{
 "cells": [
  {
   "cell_type": "markdown",
   "metadata": {
    "id": "_JiMMJlAbjNd"
   },
   "source": [
    "<div style=\"padding: 4px;\n",
    "            padding-left: 7px;\n",
    "           display:fill;\n",
    "           border-radius:20px;\n",
    "           background-color:#BEBEBE;\n",
    "           font-size:250%;\n",
    "           font-family: Calibri;\n",
    "           color: #808080;\n",
    "           text-shadow: 1px 1px 2px black;\n",
    "           box-shadow: 15px 10px 7px gray;\n",
    "           letter-spacing:0.5px;\n",
    "            margin: 15px 15px 15px 15px\"><h1>🛣️Clean/Littered Road Classification Using Deep Learning</h1></div> "
   ]
  },
  {
   "cell_type": "markdown",
   "metadata": {
    "id": "DhiSZuoNbjNh"
   },
   "source": [
    "<div style='padding: 4px;\n",
    "            padding-left: 7px;\n",
    "           display:fill;\n",
    "           border-radius:20px;\n",
    "           background-color:#BEBEBE;\n",
    "           font-size:200%;\n",
    "           font-family: Calibri;\n",
    "           color: #808080;\n",
    "           text-shadow: 1px 1px 2px black;\n",
    "           box-shadow: 10px 7px 4.5px gray;\n",
    "           letter-spacing:0.5px;margin: 15px 15px 15px 15px'><h2>📚 1. Imports</h2></div>"
   ]
  },
  {
   "cell_type": "code",
   "execution_count": null,
   "metadata": {
    "execution": {
     "iopub.execute_input": "2023-03-02T21:18:12.601453Z",
     "iopub.status.busy": "2023-03-02T21:18:12.600717Z",
     "iopub.status.idle": "2023-03-02T21:18:12.607499Z",
     "shell.execute_reply": "2023-03-02T21:18:12.60627Z",
     "shell.execute_reply.started": "2023-03-02T21:18:12.601417Z"
    },
    "id": "P0owG2TZbjNh"
   },
   "outputs": [
    {
     "ename": "",
     "evalue": "",
     "output_type": "error",
     "traceback": [
      "\u001b[1;31mRunning cells with 'c:\\Users\\rizwanshaizu\\AppData\\Local\\Microsoft\\WindowsApps\\python3.11.exe' requires the ipykernel package.\n",
      "\u001b[1;31mRun the following command to install 'ipykernel' into the Python environment. \n",
      "\u001b[1;31mCommand: 'c:/Users/rizwanshaizu/AppData/Local/Microsoft/WindowsApps/python3.11.exe -m pip install ipykernel -U --user --force-reinstall'"
     ]
    }
   ],
   "source": [
    "# system library\n",
    "import os\n",
    "\n",
    "# math and tables\n",
    "import pandas as pd\n",
    "import numpy as np\n",
    "\n",
    "# for model building\n",
    "import tensorflow as tf\n",
    "from tensorflow.keras.callbacks import ModelCheckpoint\n",
    "\n",
    "# visualization libraries\n",
    "import cv2\n",
    "import matplotlib.pyplot as plt\n",
    "\n",
    "# some utils\n",
    "from sklearn.model_selection import train_test_split\n",
    "from random import randint"
   ]
  },
  {
   "cell_type": "markdown",
   "metadata": {
    "id": "CkEJXfRobjNi"
   },
   "source": [
    "<div style='padding: 4px;\n",
    "            padding-left: 7px;\n",
    "           display:fill;\n",
    "           border-radius:20px;\n",
    "           background-color:#BEBEBE;\n",
    "           font-size:200%;\n",
    "           font-family: Calibri;\n",
    "           color: #808080;\n",
    "           text-shadow: 1px 1px 2px black;\n",
    "           box-shadow: 10px 7px 4.5px gray;\n",
    "           letter-spacing:0.5px;\n",
    "            margin: 15px 15px 15px 15px'><h2>📥 2. Data Loading, Formatting and Some Parameters</h2></div>"
   ]
  },
  {
   "cell_type": "markdown",
   "metadata": {
    "id": "oCqDCz5xbjNi"
   },
   "source": [
    "<div style=\"margin: 0px 0px 0px 0px;\n",
    "            border-style: ridge;\n",
    "            border-width: 0px;\n",
    "            border-left-width: 5px;\n",
    "            padding-left: 10px;\">There are only 2 classes: <b>clean road</b> and <b>dirty road</b>\n",
    "File \"metadata.csv\" contains the file path location of each image and their labels. Images will be resized in process of loading. The size is stored in the variable <i>img_size</i>.</div>"
   ]
  },
  {
   "cell_type": "code",
   "execution_count": null,
   "metadata": {
    "colab": {
     "base_uri": "https://localhost:8080/"
    },
    "execution": {
     "iopub.execute_input": "2023-03-02T21:18:12.61406Z",
     "iopub.status.busy": "2023-03-02T21:18:12.613085Z",
     "iopub.status.idle": "2023-03-02T21:18:17.540396Z",
     "shell.execute_reply": "2023-03-02T21:18:17.539281Z",
     "shell.execute_reply.started": "2023-03-02T21:18:12.614023Z"
    },
    "id": "c_2fvthpbjNi",
    "outputId": "56964fec-688c-4ac5-99ad-31bcdd77e471"
   },
   "outputs": [
    {
     "ename": "",
     "evalue": "",
     "output_type": "error",
     "traceback": [
      "\u001b[1;31mRunning cells with 'c:\\Users\\rizwanshaizu\\AppData\\Local\\Microsoft\\WindowsApps\\python3.11.exe' requires the ipykernel package.\n",
      "\u001b[1;31mRun the following command to install 'ipykernel' into the Python environment. \n",
      "\u001b[1;31mCommand: 'c:/Users/rizwanshaizu/AppData/Local/Microsoft/WindowsApps/python3.11.exe -m pip install ipykernel -U --user --force-reinstall'"
     ]
    }
   ],
   "source": [
    "import cv2\n",
    "import numpy as np\n",
    "import pandas as pd\n",
    "from google.colab import files\n",
    "\n",
    "# Upload the data files (metadata.csv and images folder) to the Colab environment\n",
    "\n",
    "# Read the metadata.csv file\n",
    "labels_df = pd.read_csv('/content/metadata.csv')\n",
    "print('\\n\\nlabels dataframe:\\n', labels_df.head(), '\\n\\n')\n",
    "\n",
    "# Set the path to the images folder\n",
    "images_path = '/content/images/'\n",
    "\n",
    "# Remove labels.csv because it's not a class\n",
    "class_names = ('clean', 'dirty')\n",
    "num_classes = len(class_names)\n",
    "\n",
    "img_size = (128, 128, 3)\n",
    "\n",
    "print(f'{num_classes} classes: {class_names}\\nimage size: {img_size}')\n",
    "\n",
    "labels = []\n",
    "images = []\n",
    "for idx, row in labels_df.iterrows():\n",
    "    image_path = images_path + row[0]\n",
    "    print(f\"Processing image: {image_path}\")\n",
    "    image = cv2.imread(image_path, cv2.IMREAD_COLOR)\n",
    "    resized_image = cv2.resize(image, img_size[0:2])[:, :, ::-1]\n",
    "    images.append(np.asarray(resized_image))\n",
    "\n",
    "    # labels will be in the form of a vector: [0, 1] or [1, 0]\n",
    "    label = np.zeros(num_classes)\n",
    "    label[row[1]] = 1\n",
    "    labels.append(label)\n",
    "\n",
    "labels = np.asarray(labels)\n",
    "images = np.asarray(images)\n",
    "\n",
    "print(f'\\nlabels shape: {labels.shape}')\n",
    "print(f'images shape: {images.shape}')\n"
   ]
  },
  {
   "cell_type": "markdown",
   "metadata": {
    "id": "h-SvCrlMbjNj"
   },
   "source": [
    "<div style='padding: 4px;\n",
    "            padding-left: 7px;\n",
    "           display:fill;\n",
    "           border-radius:20px;\n",
    "           background-color:#BEBEBE;\n",
    "           font-size:200%;\n",
    "           font-family: Calibri;\n",
    "           color: #808080;\n",
    "           text-shadow: 1px 1px 2px black;\n",
    "           box-shadow: 10px 7px 4.5px gray;\n",
    "           letter-spacing:0.5px;margin: 15px 15px 15px 15px'><h2>🏞️ 3. Data Visualisation</h2></div>"
   ]
  },
  {
   "cell_type": "code",
   "execution_count": null,
   "metadata": {
    "colab": {
     "base_uri": "https://localhost:8080/",
     "height": 826
    },
    "execution": {
     "iopub.execute_input": "2023-03-02T21:18:17.543311Z",
     "iopub.status.busy": "2023-03-02T21:18:17.542419Z",
     "iopub.status.idle": "2023-03-02T21:18:18.411802Z",
     "shell.execute_reply": "2023-03-02T21:18:18.410846Z",
     "shell.execute_reply.started": "2023-03-02T21:18:17.543279Z"
    },
    "id": "LG-P1PP3bjNj",
    "outputId": "5aeac110-68c4-4973-ef25-e4b8f5a86f9f"
   },
   "outputs": [
    {
     "ename": "",
     "evalue": "",
     "output_type": "error",
     "traceback": [
      "\u001b[1;31mRunning cells with 'c:\\Users\\rizwanshaizu\\AppData\\Local\\Microsoft\\WindowsApps\\python3.11.exe' requires the ipykernel package.\n",
      "\u001b[1;31mRun the following command to install 'ipykernel' into the Python environment. \n",
      "\u001b[1;31mCommand: 'c:/Users/rizwanshaizu/AppData/Local/Microsoft/WindowsApps/python3.11.exe -m pip install ipykernel -U --user --force-reinstall'"
     ]
    }
   ],
   "source": [
    "import cv2\n",
    "import numpy as np\n",
    "import pandas as pd\n",
    "import matplotlib.pyplot as plt\n",
    "from random import randint\n",
    "\n",
    "# Your previous code...\n",
    "\n",
    "# Display 16 pictures from the dataset\n",
    "fig, axs = plt.subplots(4, 4, figsize=(10, 10))\n",
    "\n",
    "for x in range(4):\n",
    "    for y in range(4):\n",
    "        i = randint(0, len(images) - 1)\n",
    "\n",
    "        axs[x][y].imshow(images[i])\n",
    "\n",
    "        # delete x and y ticks and set x label as picture label\n",
    "        axs[x][y].set_xticks([])\n",
    "        axs[x][y].set_yticks([])\n",
    "        axs[x][y].set_xlabel(class_names[np.argmax(labels[i])])\n",
    "\n",
    "plt.show()\n"
   ]
  },
  {
   "cell_type": "markdown",
   "metadata": {
    "id": "23VbFJwtbjNj"
   },
   "source": [
    "<div style='padding: 4px;\n",
    "            padding-left: 7px;\n",
    "           display:fill;\n",
    "           border-radius:20px;\n",
    "           background-color:#BEBEBE;\n",
    "           font-size:200%;\n",
    "           font-family: Calibri;\n",
    "           color: #808080;\n",
    "           text-shadow: 1px 1px 2px black;\n",
    "           box-shadow: 10px 7px 4.5px gray;\n",
    "           letter-spacing:0.5px;margin: 15px 15px 15px 15px'><h2>🪓 4. Train/Validation Split</h2></div>"
   ]
  },
  {
   "cell_type": "markdown",
   "metadata": {
    "id": "W0ys8x1cbjNj"
   },
   "source": [
    "<div style=\"margin: 0px 0px 0px 0px;\n",
    "            border-style: ridge;\n",
    "            border-width: 0px;\n",
    "            border-left-width: 5px;\n",
    "            padding-left: 10px;\">Data will be split into training and validation category.</div>"
   ]
  },
  {
   "cell_type": "code",
   "execution_count": null,
   "metadata": {
    "colab": {
     "base_uri": "https://localhost:8080/"
    },
    "execution": {
     "iopub.execute_input": "2023-03-02T21:18:18.414159Z",
     "iopub.status.busy": "2023-03-02T21:18:18.413138Z",
     "iopub.status.idle": "2023-03-02T21:18:18.423829Z",
     "shell.execute_reply": "2023-03-02T21:18:18.422828Z",
     "shell.execute_reply.started": "2023-03-02T21:18:18.414119Z"
    },
    "id": "ekUsUpxvbjNj",
    "outputId": "793ac3dc-6ed6-4bcf-b535-60606f6169ff"
   },
   "outputs": [
    {
     "ename": "",
     "evalue": "",
     "output_type": "error",
     "traceback": [
      "\u001b[1;31mRunning cells with 'c:\\Users\\rizwanshaizu\\AppData\\Local\\Microsoft\\WindowsApps\\python3.11.exe' requires the ipykernel package.\n",
      "\u001b[1;31mRun the following command to install 'ipykernel' into the Python environment. \n",
      "\u001b[1;31mCommand: 'c:/Users/rizwanshaizu/AppData/Local/Microsoft/WindowsApps/python3.11.exe -m pip install ipykernel -U --user --force-reinstall'"
     ]
    }
   ],
   "source": [
    "X_train, X_val, y_train, y_val = train_test_split(images, labels, test_size=0.1, random_state=42)\n",
    "\n",
    "print(f'train images shape: {X_train.shape}\\ntrain labels shape: {y_train.shape}\\n\\nvalidation images shape: {X_val.shape}\\nvalidation labels shape: {y_val.shape}\\n')"
   ]
  },
  {
   "cell_type": "markdown",
   "metadata": {
    "id": "SmsxTXaGbjNj"
   },
   "source": [
    "<div style='padding: 4px;\n",
    "            padding-left: 7px;\n",
    "           display:fill;\n",
    "           border-radius:20px;\n",
    "           background-color:#BEBEBE;\n",
    "           font-size:200%;\n",
    "           font-family: Calibri;\n",
    "           color: #808080;\n",
    "           text-shadow: 1px 1px 2px black;\n",
    "           box-shadow: 10px 7px 4.5px gray;\n",
    "           letter-spacing:0.5px;margin: 15px 15px 15px 15px'><h2>➕ 5. Data Augmentation</h2></div>"
   ]
  },
  {
   "cell_type": "markdown",
   "metadata": {
    "id": "BrT46aasbjNk"
   },
   "source": [
    "<div style=\"margin: 0px 0px 0px 0px;\n",
    "            border-style: ridge;\n",
    "            border-width: 0px;\n",
    "            border-left-width: 5px;\n",
    "            padding-left: 10px;\">The dataset is small, so use data augmentation.</div>"
   ]
  },
  {
   "cell_type": "code",
   "execution_count": null,
   "metadata": {
    "execution": {
     "iopub.execute_input": "2023-03-02T21:18:18.426559Z",
     "iopub.status.busy": "2023-03-02T21:18:18.425374Z",
     "iopub.status.idle": "2023-03-02T21:18:18.450834Z",
     "shell.execute_reply": "2023-03-02T21:18:18.449077Z",
     "shell.execute_reply.started": "2023-03-02T21:18:18.426508Z"
    },
    "id": "y6esRJxMbjNk"
   },
   "outputs": [
    {
     "ename": "",
     "evalue": "",
     "output_type": "error",
     "traceback": [
      "\u001b[1;31mRunning cells with 'c:\\Users\\rizwanshaizu\\AppData\\Local\\Microsoft\\WindowsApps\\python3.11.exe' requires the ipykernel package.\n",
      "\u001b[1;31mRun the following command to install 'ipykernel' into the Python environment. \n",
      "\u001b[1;31mCommand: 'c:/Users/rizwanshaizu/AppData/Local/Microsoft/WindowsApps/python3.11.exe -m pip install ipykernel -U --user --force-reinstall'"
     ]
    }
   ],
   "source": [
    "# ImageDataGenerator for train images\n",
    "train_images_generator = tf.keras.preprocessing.image.ImageDataGenerator(shear_range=0.3,\n",
    "                                                                         rotation_range=15,\n",
    "                                                                         zoom_range=0.3,\n",
    "                                                                         vertical_flip=True, \n",
    "                                                                         horizontal_flip=True)\n",
    "train_images_generator = train_images_generator.flow(X_train, y=y_train)\n",
    "\n",
    "# ImageDataGenerator for validation images\n",
    "validation_images_generator = tf.keras.preprocessing.image.ImageDataGenerator(vertical_flip=True, \n",
    "                                                                              horizontal_flip=True)\n",
    "validation_images_generator = validation_images_generator.flow(X_val, y=y_val)"
   ]
  },
  {
   "cell_type": "markdown",
   "metadata": {
    "id": "kgF9VltqbjNk"
   },
   "source": [
    "<div style='padding: 4px;\n",
    "            padding-left: 7px;\n",
    "           display:fill;\n",
    "           border-radius:20px;\n",
    "           background-color:#BEBEBE;\n",
    "           font-size:200%;\n",
    "           font-family: Calibri;\n",
    "           color: #808080;\n",
    "           text-shadow: 1px 1px 2px black;\n",
    "           box-shadow: 10px 7px 4.5px gray;\n",
    "           letter-spacing:0.5px;margin: 15px 15px 15px 15px'><h2>6. CNN Model</h2></div>"
   ]
  },
  {
   "cell_type": "markdown",
   "metadata": {
    "id": "utbuWS2XbjNk"
   },
   "source": [
    "<div style=\"margin: 0px 0px 0px 0px;\n",
    "            border-style: ridge;\n",
    "            border-width: 0px;\n",
    "            border-left-width: 5px;\n",
    "            padding-left: 10px;\">The cnn_model will consist of an input <i>rescaling layer</i>, 3 <i>convolution layers blocks</i> and 4 <i>dense layers</i> after them. Input <i>rescaling layer</i>, which converts the values into a format from 0 to 1. The <i>block of convolution layers</i> contains 2 <i>convolution layers</i> and 1 <i>max pooling layer</i> after them (+ <i>global average pooling</i> if it is a jump from <i>convolutional layers</i> to <i>dense</i>). And the output <i>dense layer</i> contains as many neurons as there are classes.</div>"
   ]
  },
  {
   "cell_type": "code",
   "execution_count": null,
   "metadata": {
    "execution": {
     "iopub.execute_input": "2023-03-02T21:18:18.455586Z",
     "iopub.status.busy": "2023-03-02T21:18:18.454615Z",
     "iopub.status.idle": "2023-03-02T21:18:18.47239Z",
     "shell.execute_reply": "2023-03-02T21:18:18.470933Z",
     "shell.execute_reply.started": "2023-03-02T21:18:18.455524Z"
    },
    "id": "T8OftIhGbjNk"
   },
   "outputs": [
    {
     "ename": "",
     "evalue": "",
     "output_type": "error",
     "traceback": [
      "\u001b[1;31mRunning cells with 'c:\\Users\\rizwanshaizu\\AppData\\Local\\Microsoft\\WindowsApps\\python3.11.exe' requires the ipykernel package.\n",
      "\u001b[1;31mRun the following command to install 'ipykernel' into the Python environment. \n",
      "\u001b[1;31mCommand: 'c:/Users/rizwanshaizu/AppData/Local/Microsoft/WindowsApps/python3.11.exe -m pip install ipykernel -U --user --force-reinstall'"
     ]
    }
   ],
   "source": [
    "def get_model():\n",
    "    cnn_model = tf.keras.Sequential()\n",
    "\n",
    "    # Inputs and rescaling\n",
    "    cnn_model.add(tf.keras.layers.Rescaling(scale=1. / 255, input_shape=(img_size[0], img_size[1], img_size[2])))\n",
    "\n",
    "    # Convolutional block 1\n",
    "    cnn_model.add(tf.keras.layers.Conv2D(64, (3, 3), activation='relu', padding='same'))\n",
    "    cnn_model.add(tf.keras.layers.Conv2D(64, (3, 3), activation='relu', padding='same'))\n",
    "    cnn_model.add(tf.keras.layers.MaxPooling2D(pool_size=2))\n",
    "\n",
    "    # Convolutional block 2\n",
    "    cnn_model.add(tf.keras.layers.Conv2D(128, (2, 2), activation='relu', padding='same'))\n",
    "    cnn_model.add(tf.keras.layers.Conv2D(128, (2, 2), activation='relu', padding='same'))\n",
    "    cnn_model.add(tf.keras.layers.MaxPooling2D(pool_size=2))\n",
    "\n",
    "    # Convolutional block 3\n",
    "    cnn_model.add(tf.keras.layers.Conv2D(256, (2, 2), activation='relu', padding='same'))\n",
    "    cnn_model.add(tf.keras.layers.Conv2D(256, (2, 2), activation='relu', padding='same'))\n",
    "    cnn_model.add(tf.keras.layers.MaxPooling2D(pool_size=2))\n",
    "    cnn_model.add(tf.keras.layers.GlobalAveragePooling2D())\n",
    "\n",
    "    # Dense block\n",
    "    cnn_model.add(tf.keras.layers.Dense(512, activation='relu'))\n",
    "    cnn_model.add(tf.keras.layers.Dense(256, activation='relu'))\n",
    "    cnn_model.add(tf.keras.layers.Dense(128, activation='relu'))\n",
    "    cnn_model.add(tf.keras.layers.Dense(64, activation='relu'))\n",
    "    cnn_model.add(tf.keras.layers.Dense(num_classes, activation='softmax'))\n",
    "\n",
    "\n",
    "    cnn_model.compile(optimizer='Adam', loss='categorical_crossentropy', metrics=['accuracy'])\n",
    "\n",
    "    return cnn_model"
   ]
  },
  {
   "cell_type": "markdown",
   "metadata": {
    "id": "TGt-bheJbjNk"
   },
   "source": [
    "<div style='padding: 4px;\n",
    "            padding-left: 7px;\n",
    "           display:fill;\n",
    "           border-radius:20px;\n",
    "           background-color:#BEBEBE;\n",
    "           font-size:200%;\n",
    "           font-family: Calibri;\n",
    "           color: #808080;\n",
    "           text-shadow: 1px 1px 2px black;\n",
    "           box-shadow: 10px 7px 4.5px gray;\n",
    "           letter-spacing:0.5px;margin: 15px 15px 15px 15px'><h2>🎫 7. Lottery Ticket Hypothesis Realizing</h2></div>"
   ]
  },
  {
   "cell_type": "markdown",
   "metadata": {
    "id": "ZP2dTwOwbjNk"
   },
   "source": [
    "<div style=\"margin: 0px 0px 0px 0px;\n",
    "            border-style: ridge;\n",
    "            border-width: 0px;\n",
    "            border-left-width: 5px;\n",
    "            padding-left: 10px;\">About lottery ticket hypotesis - <a href='https://arxiv.org/abs/1803.03635'>https://arxiv.org/abs/1803.03635</a></div>"
   ]
  },
  {
   "cell_type": "code",
   "execution_count": null,
   "metadata": {
    "colab": {
     "base_uri": "https://localhost:8080/"
    },
    "execution": {
     "iopub.execute_input": "2023-03-02T21:18:18.47496Z",
     "iopub.status.busy": "2023-03-02T21:18:18.474152Z",
     "iopub.status.idle": "2023-03-02T21:19:41.636589Z",
     "shell.execute_reply": "2023-03-02T21:19:41.635761Z",
     "shell.execute_reply.started": "2023-03-02T21:18:18.474916Z"
    },
    "id": "LtnEs--wbjNk",
    "outputId": "61c38d3f-f783-4848-c353-fba32f568e81"
   },
   "outputs": [
    {
     "ename": "",
     "evalue": "",
     "output_type": "error",
     "traceback": [
      "\u001b[1;31mRunning cells with 'c:\\Users\\rizwanshaizu\\AppData\\Local\\Microsoft\\WindowsApps\\python3.11.exe' requires the ipykernel package.\n",
      "\u001b[1;31mRun the following command to install 'ipykernel' into the Python environment. \n",
      "\u001b[1;31mCommand: 'c:/Users/rizwanshaizu/AppData/Local/Microsoft/WindowsApps/python3.11.exe -m pip install ipykernel -U --user --force-reinstall'"
     ]
    }
   ],
   "source": [
    "# my lottery ticket hypotesis realization\n",
    "min_loss = 10\n",
    "for seed in np.linspace(1, 257654, 15).astype(int):\n",
    "    tf.random.set_seed(seed)\n",
    "    cnn_model = get_model()\n",
    "    \n",
    "    loss = cnn_model.fit(train_images_generator, epochs=1, verbose=1, steps_per_epoch=100).history['loss'][0]\n",
    "    if loss < min_loss:\n",
    "        min_loss = loss\n",
    "        best_model = cnn_model\n",
    "    \n",
    "print(f'\\n\\nmin loss: {min_loss}', best_model.summary())"
   ]
  },
  {
   "cell_type": "markdown",
   "metadata": {
    "id": "41uZFopMbjNl"
   },
   "source": [
    "<div style='padding: 4px;\n",
    "            padding-left: 7px;\n",
    "           display:fill;\n",
    "           border-radius:20px;\n",
    "           background-color:#BEBEBE;\n",
    "           font-size:200%;\n",
    "           font-family: Calibri;\n",
    "           color: #808080;\n",
    "           text-shadow: 1px 1px 2px black;\n",
    "           box-shadow: 10px 7px 4.5px gray;\n",
    "           letter-spacing:0.5px;margin: 15px 15px 15px 15px'><h2>📈 8. Training and Results</h2></div>"
   ]
  },
  {
   "cell_type": "code",
   "execution_count": null,
   "metadata": {
    "execution": {
     "iopub.execute_input": "2023-03-02T21:19:41.638309Z",
     "iopub.status.busy": "2023-03-02T21:19:41.637697Z",
     "iopub.status.idle": "2023-03-02T21:19:41.642712Z",
     "shell.execute_reply": "2023-03-02T21:19:41.641988Z",
     "shell.execute_reply.started": "2023-03-02T21:19:41.63827Z"
    },
    "id": "BKofvqIcbjNl"
   },
   "outputs": [
    {
     "ename": "",
     "evalue": "",
     "output_type": "error",
     "traceback": [
      "\u001b[1;31mRunning cells with 'c:\\Users\\rizwanshaizu\\AppData\\Local\\Microsoft\\WindowsApps\\python3.11.exe' requires the ipykernel package.\n",
      "\u001b[1;31mRun the following command to install 'ipykernel' into the Python environment. \n",
      "\u001b[1;31mCommand: 'c:/Users/rizwanshaizu/AppData/Local/Microsoft/WindowsApps/python3.11.exe -m pip install ipykernel -U --user --force-reinstall'"
     ]
    }
   ],
   "source": [
    "# creating ModelChecpoint callback\n",
    "checkpoint_callback = ModelCheckpoint('cnn_model/model{epoch:02d}')"
   ]
  },
  {
   "cell_type": "code",
   "execution_count": null,
   "metadata": {
    "id": "S7EtTcNEYaBY"
   },
   "outputs": [
    {
     "ename": "",
     "evalue": "",
     "output_type": "error",
     "traceback": [
      "\u001b[1;31mRunning cells with 'c:\\Users\\rizwanshaizu\\AppData\\Local\\Microsoft\\WindowsApps\\python3.11.exe' requires the ipykernel package.\n",
      "\u001b[1;31mRun the following command to install 'ipykernel' into the Python environment. \n",
      "\u001b[1;31mCommand: 'c:/Users/rizwanshaizu/AppData/Local/Microsoft/WindowsApps/python3.11.exe -m pip install ipykernel -U --user --force-reinstall'"
     ]
    }
   ],
   "source": []
  },
  {
   "cell_type": "code",
   "execution_count": null,
   "metadata": {
    "_kg_hide-input": false,
    "_kg_hide-output": true,
    "colab": {
     "base_uri": "https://localhost:8080/"
    },
    "execution": {
     "iopub.execute_input": "2023-03-02T21:19:41.644411Z",
     "iopub.status.busy": "2023-03-02T21:19:41.64372Z",
     "iopub.status.idle": "2023-03-02T21:29:44.966263Z",
     "shell.execute_reply": "2023-03-02T21:29:44.965237Z",
     "shell.execute_reply.started": "2023-03-02T21:19:41.644363Z"
    },
    "id": "CpESAxiZbjNl",
    "outputId": "98423cb5-8e7a-4204-cda3-67b95dba0da0"
   },
   "outputs": [
    {
     "ename": "",
     "evalue": "",
     "output_type": "error",
     "traceback": [
      "\u001b[1;31mRunning cells with 'c:\\Users\\rizwanshaizu\\AppData\\Local\\Microsoft\\WindowsApps\\python3.11.exe' requires the ipykernel package.\n",
      "\u001b[1;31mRun the following command to install 'ipykernel' into the Python environment. \n",
      "\u001b[1;31mCommand: 'c:/Users/rizwanshaizu/AppData/Local/Microsoft/WindowsApps/python3.11.exe -m pip install ipykernel -U --user --force-reinstall'"
     ]
    }
   ],
   "source": [
    "history = best_model.fit(train_images_generator, epochs=200, verbose=1, validation_data=validation_images_generator, callbacks=[checkpoint_callback])"
   ]
  },
  {
   "cell_type": "markdown",
   "metadata": {
    "id": "hrF55MiObjNl"
   },
   "source": [
    "<div style=\"margin: 0px 0px 0px 0px;\n",
    "            border-style: ridge;\n",
    "            border-width: 0px;\n",
    "            border-left-width: 5px;\n",
    "            padding-left: 10px;\">minimum loss is 0.004 and accuracy is 1.0 | epoch 188</div> "
   ]
  },
  {
   "cell_type": "code",
   "execution_count": null,
   "metadata": {
    "execution": {
     "iopub.execute_input": "2023-03-02T21:30:20.893715Z",
     "iopub.status.busy": "2023-03-02T21:30:20.893334Z",
     "iopub.status.idle": "2023-03-02T21:30:21.910402Z",
     "shell.execute_reply": "2023-03-02T21:30:21.908856Z",
     "shell.execute_reply.started": "2023-03-02T21:30:20.893683Z"
    },
    "id": "eBwR9LidbjNl"
   },
   "outputs": [
    {
     "ename": "",
     "evalue": "",
     "output_type": "error",
     "traceback": [
      "\u001b[1;31mRunning cells with 'c:\\Users\\rizwanshaizu\\AppData\\Local\\Microsoft\\WindowsApps\\python3.11.exe' requires the ipykernel package.\n",
      "\u001b[1;31mRun the following command to install 'ipykernel' into the Python environment. \n",
      "\u001b[1;31mCommand: 'c:/Users/rizwanshaizu/AppData/Local/Microsoft/WindowsApps/python3.11.exe -m pip install ipykernel -U --user --force-reinstall'"
     ]
    }
   ],
   "source": [
    "# loading best model\n",
    "cnn_model = tf.keras.models.load_model('/content/cnn_model/model188')"
   ]
  },
  {
   "cell_type": "code",
   "execution_count": null,
   "metadata": {
    "colab": {
     "base_uri": "https://localhost:8080/"
    },
    "id": "36cwzcpPY0aq",
    "outputId": "174b6654-1b13-4497-c245-4d57bb905b88"
   },
   "outputs": [
    {
     "ename": "",
     "evalue": "",
     "output_type": "error",
     "traceback": [
      "\u001b[1;31mRunning cells with 'c:\\Users\\rizwanshaizu\\AppData\\Local\\Microsoft\\WindowsApps\\python3.11.exe' requires the ipykernel package.\n",
      "\u001b[1;31mRun the following command to install 'ipykernel' into the Python environment. \n",
      "\u001b[1;31mCommand: 'c:/Users/rizwanshaizu/AppData/Local/Microsoft/WindowsApps/python3.11.exe -m pip install ipykernel -U --user --force-reinstall'"
     ]
    }
   ],
   "source": [
    "from google.colab import drive\n",
    "drive.mount('/content/drive')\n",
    "\n",
    "# Specify the path to save the model in your Google Drive\n",
    "model_path = '/content/drive/MyDrive/model.h5'\n",
    "\n",
    "# Save the model\n",
    "best_model.save(model_path)\n",
    "\n"
   ]
  },
  {
   "cell_type": "code",
   "execution_count": null,
   "metadata": {
    "colab": {
     "base_uri": "https://localhost:8080/"
    },
    "id": "w0YzdqeRaSHy",
    "outputId": "cca9596e-5766-47de-aaed-ac3f9baf4baf"
   },
   "outputs": [
    {
     "ename": "",
     "evalue": "",
     "output_type": "error",
     "traceback": [
      "\u001b[1;31mRunning cells with 'c:\\Users\\rizwanshaizu\\AppData\\Local\\Microsoft\\WindowsApps\\python3.11.exe' requires the ipykernel package.\n",
      "\u001b[1;31mRun the following command to install 'ipykernel' into the Python environment. \n",
      "\u001b[1;31mCommand: 'c:/Users/rizwanshaizu/AppData/Local/Microsoft/WindowsApps/python3.11.exe -m pip install ipykernel -U --user --force-reinstall'"
     ]
    }
   ],
   "source": [
    "import tensorflow as tf\n",
    "\n",
    "# Save the model to local memory\n",
    "cnn_model.save('/Users/princesingh/Desktop/untitled folder')\n"
   ]
  },
  {
   "cell_type": "markdown",
   "metadata": {
    "id": "8dqOz1q5bjNl"
   },
   "source": [
    "<div style='padding: 4px;\n",
    "            padding-left: 7px;\n",
    "           display:fill;\n",
    "           border-radius:20px;\n",
    "           background-color:#BEBEBE;\n",
    "           font-size:200%;\n",
    "           font-family: Calibri;\n",
    "           color: #808080;\n",
    "           text-shadow: 1px 1px 2px black;\n",
    "           box-shadow: 10px 7px 4.5px gray;\n",
    "           letter-spacing:0.5px;margin: 15px 15px 15px 15px'><h2>📈 9. Accuracy and Loss Plot</h2></div>"
   ]
  },
  {
   "cell_type": "code",
   "execution_count": null,
   "metadata": {
    "execution": {
     "iopub.execute_input": "2023-03-02T21:30:22.944251Z",
     "iopub.status.busy": "2023-03-02T21:30:22.943624Z",
     "iopub.status.idle": "2023-03-02T21:30:22.955457Z",
     "shell.execute_reply": "2023-03-02T21:30:22.954101Z",
     "shell.execute_reply.started": "2023-03-02T21:30:22.944206Z"
    },
    "id": "Rr75lHgIbjNl"
   },
   "outputs": [
    {
     "ename": "",
     "evalue": "",
     "output_type": "error",
     "traceback": [
      "\u001b[1;31mRunning cells with 'c:\\Users\\rizwanshaizu\\AppData\\Local\\Microsoft\\WindowsApps\\python3.11.exe' requires the ipykernel package.\n",
      "\u001b[1;31mRun the following command to install 'ipykernel' into the Python environment. \n",
      "\u001b[1;31mCommand: 'c:/Users/rizwanshaizu/AppData/Local/Microsoft/WindowsApps/python3.11.exe -m pip install ipykernel -U --user --force-reinstall'"
     ]
    }
   ],
   "source": [
    "accuracy = history.history['accuracy']\n",
    "val_accuracy = history.history['val_accuracy']\n",
    "\n",
    "loss = history.history['loss']\n",
    "val_loss = history.history['val_loss']\n",
    "\n",
    "epochs = range(len(accuracy))"
   ]
  },
  {
   "cell_type": "code",
   "execution_count": null,
   "metadata": {
    "colab": {
     "base_uri": "https://localhost:8080/",
     "height": 887
    },
    "execution": {
     "iopub.execute_input": "2023-03-02T21:30:24.815187Z",
     "iopub.status.busy": "2023-03-02T21:30:24.814121Z",
     "iopub.status.idle": "2023-03-02T21:30:25.297833Z",
     "shell.execute_reply": "2023-03-02T21:30:25.296762Z",
     "shell.execute_reply.started": "2023-03-02T21:30:24.815135Z"
    },
    "id": "FLObbnC9bjNl",
    "outputId": "4ad7271e-59f7-4d04-bffc-611680ccfb15"
   },
   "outputs": [
    {
     "ename": "",
     "evalue": "",
     "output_type": "error",
     "traceback": [
      "\u001b[1;31mRunning cells with 'c:\\Users\\rizwanshaizu\\AppData\\Local\\Microsoft\\WindowsApps\\python3.11.exe' requires the ipykernel package.\n",
      "\u001b[1;31mRun the following command to install 'ipykernel' into the Python environment. \n",
      "\u001b[1;31mCommand: 'c:/Users/rizwanshaizu/AppData/Local/Microsoft/WindowsApps/python3.11.exe -m pip install ipykernel -U --user --force-reinstall'"
     ]
    }
   ],
   "source": [
    "plt.figure()\n",
    "plt.plot(epochs, accuracy, label='Training Accuracy')\n",
    "plt.plot(epochs, loss, label='Training Loss')\n",
    "plt.legend()\n",
    "plt.title('Training Accuracy and Loss')\n",
    "\n",
    "plt.figure()\n",
    "plt.plot(epochs, val_accuracy, label='Validation Accuracy')\n",
    "plt.plot(epochs, val_loss, label='Validation Loss')\n",
    "plt.legend()\n",
    "plt.title('Validation Accuracy and Loss')\n",
    "\n",
    "plt.show()"
   ]
  },
  {
   "cell_type": "markdown",
   "metadata": {
    "id": "3pcpPulpbjNl"
   },
   "source": [
    "<div style='padding: 4px;\n",
    "            padding-left: 7px;\n",
    "           display:fill;\n",
    "           border-radius:20px;\n",
    "           background-color:#BEBEBE;\n",
    "           font-size:200%;\n",
    "           font-family: Calibri;\n",
    "           color: #808080;\n",
    "           text-shadow: 1px 1px 2px black;\n",
    "           box-shadow: 10px 7px 4.5px gray;\n",
    "           letter-spacing:0.5px;margin: 15px 15px 15px 15px'><h2>10. Predictions</h2></div>"
   ]
  },
  {
   "cell_type": "code",
   "execution_count": null,
   "metadata": {
    "colab": {
     "base_uri": "https://localhost:8080/",
     "height": 981
    },
    "execution": {
     "iopub.execute_input": "2023-03-02T21:30:28.007898Z",
     "iopub.status.busy": "2023-03-02T21:30:28.007504Z",
     "iopub.status.idle": "2023-03-02T21:30:31.180005Z",
     "shell.execute_reply": "2023-03-02T21:30:31.1791Z",
     "shell.execute_reply.started": "2023-03-02T21:30:28.007865Z"
    },
    "id": "gaMfsr3UbjNl",
    "outputId": "12dd4424-48f3-46da-f341-f6cd93251e15"
   },
   "outputs": [
    {
     "ename": "",
     "evalue": "",
     "output_type": "error",
     "traceback": [
      "\u001b[1;31mRunning cells with 'c:\\Users\\rizwanshaizu\\AppData\\Local\\Microsoft\\WindowsApps\\python3.11.exe' requires the ipykernel package.\n",
      "\u001b[1;31mRun the following command to install 'ipykernel' into the Python environment. \n",
      "\u001b[1;31mCommand: 'c:/Users/rizwanshaizu/AppData/Local/Microsoft/WindowsApps/python3.11.exe -m pip install ipykernel -U --user --force-reinstall'"
     ]
    }
   ],
   "source": [
    "fig, axs = plt.subplots(5, 4, figsize=(12, 12))\n",
    "\n",
    "i = 0\n",
    "for x in range(5):\n",
    "    for y in range(4):\n",
    "        prediction = cnn_model.predict(X_val[i][None, ...], verbose=0)[0]\n",
    "        \n",
    "        axs[x][y].set_xticks([])\n",
    "        axs[x][y].set_yticks([])\n",
    "        \n",
    "        if np.argmax(prediction) != np.argmax(y_val[i]):   \n",
    "            axs[x][y].set_xlabel(f'prediction: {class_names[np.argmax(prediction)]} | label: {class_names[np.argmax(y_val[i])]}', color='red')\n",
    "        else:\n",
    "            axs[x][y].set_xlabel(f'prediction: {class_names[np.argmax(prediction)]} | label: {class_names[np.argmax(y_val[i])]}')\n",
    "        \n",
    "        axs[x][y].imshow(X_val[i])\n",
    "        \n",
    "        i += 1\n",
    "plt.show()"
   ]
  }
 ],
 "metadata": {
  "colab": {
   "provenance": []
  },
  "kernelspec": {
   "display_name": "Python 3 (ipykernel)",
   "language": "python",
   "name": "python3"
  },
  "language_info": {
   "codemirror_mode": {
    "name": "ipython",
    "version": 3
   },
   "file_extension": ".py",
   "mimetype": "text/x-python",
   "name": "python",
   "nbconvert_exporter": "python",
   "pygments_lexer": "ipython3",
   "version": "3.11.7"
  }
 },
 "nbformat": 4,
 "nbformat_minor": 1
}
